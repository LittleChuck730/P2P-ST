{
 "cells": [
  {
   "cell_type": "code",
   "execution_count": 16,
   "id": "54b9f20fc836dcbd",
   "metadata": {
    "ExecuteTime": {
     "end_time": "2025-08-26T13:29:56.291377800Z",
     "start_time": "2025-08-26T13:29:56.182663500Z"
    }
   },
   "outputs": [],
   "source": [
    "import os\n",
    "import arcpy\n",
    "from arcpy.sa import ZonalStatisticsAsTable\n",
    "\n",
    "def process_zonal_statistics(in_zone_data, zone_field, raster_folder, output_folder):\n",
    "    \"\"\"\n",
    "    Perform Zonal Statistics as Table for all raster files in a given folder.\n",
    "    Each .tif file will generate a corresponding .dbf table.\n",
    "    \"\"\"\n",
    "\n",
    "    # Create output folder if it does not exist\n",
    "    if not os.path.exists(output_folder):\n",
    "        os.makedirs(output_folder)\n",
    "\n",
    "    # Get all .tif raster files in the folder\n",
    "    raster_files = [f for f in os.listdir(raster_folder) if f.lower().endswith(\".tif\")]\n",
    "\n",
    "    # Skip if no raster files found\n",
    "    if not raster_files:\n",
    "        print(\"No .tif files found. Exiting.\")\n",
    "        return\n",
    "\n",
    "    # Iterate through all raster files\n",
    "    for raster_file in raster_files:\n",
    "        try:\n",
    "            # Full path of the raster file\n",
    "            in_value_raster = os.path.join(raster_folder, raster_file)\n",
    "\n",
    "            # Output DBF table path\n",
    "            output_table = os.path.join(output_folder, f\"{os.path.splitext(raster_file)[0]}_zonal_stats.dbf\")\n",
    "\n",
    "            # Skip existing tables\n",
    "            if os.path.exists(output_table):\n",
    "                print(f\"Output table already exists, skipping: {output_table}\")\n",
    "                continue\n",
    "\n",
    "            # Run Zonal Statistics as Table\n",
    "            ZonalStatisticsAsTable(\n",
    "                in_zone_data=in_zone_data,\n",
    "                zone_field=zone_field,\n",
    "                in_value_raster=in_value_raster,\n",
    "                out_table=output_table,\n",
    "                ignore_nodata=\"DATA\",\n",
    "                statistics_type=\"ALL\"\n",
    "            )\n",
    "            print(f\"Processed raster: {raster_file} → Output: {output_table}\")\n",
    "\n",
    "        except Exception as e:\n",
    "            print(f\"Error processing raster {raster_file}: {e}\")\n",
    "\n",
    "    print(\"✅ Zonal statistics completed for all rasters!\")\n",
    "\n",
    "\n",
    "# ---------------- Example Usage ----------------\n",
    "\n",
    "give = r\"E:\\A研子时期_数据\\9_13MMT\\工程-gis\\04-10精度评估部分\\芬兰\\田块尺度\\新modis\\output_10m\"\n",
    "crop = r\"E:\\A研子时期_数据\\9_13MMT\\工程-gis\\3-20研究区选择\\田块工程文件.gdb\\芬兰田块\"\n",
    "A_3 = os.path.join(give, \"田块法表格\")\n",
    "\n",
    "process_zonal_statistics(\n",
    "    in_zone_data=crop,\n",
    "    zone_field=\"DLTB\",\n",
    "    raster_folder=give,\n",
    "    output_folder=A_3\n",
    ")\n"
   ]
  }
 ],
 "metadata": {
  "kernelspec": {
   "display_name": "ArcGIS Pro",
   "language": "python",
   "name": "arcgispro-py3"
  },
  "language_info": {
   "codemirror_mode": {
    "name": "ipython",
    "version": 3
   },
   "file_extension": ".py",
   "mimetype": "text/x-python",
   "name": "python",
   "nbconvert_exporter": "python",
   "pygments_lexer": "ipython3",
   "version": "3.9.16"
  }
 },
 "nbformat": 4,
 "nbformat_minor": 5
}
